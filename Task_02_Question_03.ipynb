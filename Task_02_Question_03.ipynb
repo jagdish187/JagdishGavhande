{
 "cells": [
  {
   "cell_type": "markdown",
   "id": "0ea36282",
   "metadata": {},
   "source": [
    "Question 03 From Task 03"
   ]
  },
  {
   "cell_type": "code",
   "execution_count": 1,
   "id": "3ecbe1e8",
   "metadata": {},
   "outputs": [
    {
     "name": "stdout",
     "output_type": "stream",
     "text": [
      "Group A: {1, 3, 5, 7, 9}\n",
      "Group B: {5, 11, 13, 7}\n",
      "After add(17) to Group A: {1, 17, 3, 5, 7, 9}\n",
      "After remove(1) from Group A: {17, 3, 5, 7, 9}\n",
      "After discard(100): {17, 3, 5, 7, 9}\n",
      "Union: {3, 5, 7, 9, 11, 13, 17}\n",
      "Intersection: {5, 7}\n",
      "Difference (A - B): {17, 3, 9}\n",
      "Symmetric Difference: {3, 9, 11, 13, 17}\n",
      "Is 3 in Group A? True\n",
      "Items in Group A:\n",
      "17\n",
      "3\n",
      "5\n",
      "7\n",
      "9\n"
     ]
    }
   ],
   "source": [
    "# Create two sets of numbers\n",
    "groupA = {1, 3, 5, 7, 9}\n",
    "groupB = {5, 7, 11, 13}\n",
    "\n",
    "print(\"Group A:\", groupA)\n",
    "print(\"Group B:\", groupB)\n",
    "\n",
    "# Add element to set\n",
    "groupA.add(17)\n",
    "print(\"After add(17) to Group A:\", groupA)\n",
    "\n",
    "# Remove element\n",
    "groupA.remove(1)\n",
    "print(\"After remove(1) from Group A:\", groupA)\n",
    "\n",
    "# Discard (no error if element doesn't exist)\n",
    "groupA.discard(100)\n",
    "print(\"After discard(100):\", groupA)\n",
    "\n",
    "# Set Operations\n",
    "print(\"Union:\", groupA.union(groupB))\n",
    "print(\"Intersection:\", groupA.intersection(groupB))\n",
    "print(\"Difference (A - B):\", groupA.difference(groupB))\n",
    "print(\"Symmetric Difference:\", groupA.symmetric_difference(groupB))\n",
    "\n",
    "# Membership test\n",
    "print(\"Is 3 in Group A?\", 3 in groupA)\n",
    "\n",
    "# Looping through set\n",
    "print(\"Items in Group A:\")\n",
    "for num in groupA:\n",
    "    print(num)\n"
   ]
  }
 ],
 "metadata": {
  "kernelspec": {
   "display_name": "Python 3",
   "language": "python",
   "name": "python3"
  },
  "language_info": {
   "codemirror_mode": {
    "name": "ipython",
    "version": 3
   },
   "file_extension": ".py",
   "mimetype": "text/x-python",
   "name": "python",
   "nbconvert_exporter": "python",
   "pygments_lexer": "ipython3",
   "version": "3.13.1"
  }
 },
 "nbformat": 4,
 "nbformat_minor": 5
}
