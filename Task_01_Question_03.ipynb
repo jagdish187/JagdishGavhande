{
 "cells": [
  {
   "cell_type": "markdown",
   "id": "502c4e35",
   "metadata": {},
   "source": [
    "Quesstion 03 from Task 01"
   ]
  },
  {
   "cell_type": "code",
   "execution_count": 1,
   "id": "0d769986",
   "metadata": {},
   "outputs": [
    {
     "name": "stdout",
     "output_type": "stream",
     "text": [
      "After strip(): Welcome to Python Programming!\n",
      "Lowercase: welcome to python programming!\n",
      "Uppercase: WELCOME TO PYTHON PROGRAMMING!\n",
      "Title Case: Welcome To Python Programming!\n",
      "Replace 'Python' with 'Coding': Welcome to Coding Programming!\n",
      "Split: ['Welcome', 'to', 'Python', 'Programming!']\n",
      "Joined with '*': Welcome*to*Python*Programming!\n",
      "Count of 'o': 4\n",
      "Find 'Python': 11\n",
      "Length of string: 30\n",
      "Starts with 'Welcome': True\n",
      "Ends with '!': True\n",
      "'12345' is digit: True\n",
      "'Hello' is alpha: True\n"
     ]
    }
   ],
   "source": [
    "# Original string\n",
    "txtLine_with_spaces = \"  Welcome to Python Programming!  \"\n",
    "txtLine = txtLine_with_spaces.strip()\n",
    "\n",
    "print(\"After strip():\", txtLine)\n",
    "print(\"Lowercase:\", txtLine.lower())\n",
    "print(\"Uppercase:\", txtLine.upper())\n",
    "print(\"Title Case:\", txtLine.title())\n",
    "print(\"Replace 'Python' with 'Coding':\", txtLine.replace(\"Python\", \"Coding\"))\n",
    "print(\"Split:\", txtLine.split())\n",
    "print(\"Joined with '*':\", \"*\".join(txtLine.split()))\n",
    "print(\"Count of 'o':\", txtLine.count('o'))\n",
    "print(\"Find 'Python':\", txtLine.find('Python'))\n",
    "print(\"Length of string:\", len(txtLine))\n",
    "print(\"Starts with 'Welcome':\", txtLine.startswith(\"Welcome\"))\n",
    "print(\"Ends with '!':\", txtLine.endswith(\"!\"))\n",
    "print(\"'12345' is digit:\", \"12345\".isdigit())\n",
    "print(\"'Hello' is alpha:\", \"Hello\".isalpha())\n"
   ]
  }
 ],
 "metadata": {
  "kernelspec": {
   "display_name": "Python 3",
   "language": "python",
   "name": "python3"
  },
  "language_info": {
   "codemirror_mode": {
    "name": "ipython",
    "version": 3
   },
   "file_extension": ".py",
   "mimetype": "text/x-python",
   "name": "python",
   "nbconvert_exporter": "python",
   "pygments_lexer": "ipython3",
   "version": "3.13.1"
  }
 },
 "nbformat": 4,
 "nbformat_minor": 5
}
