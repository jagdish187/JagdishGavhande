{
 "cells": [
  {
   "cell_type": "markdown",
   "id": "0381b817",
   "metadata": {},
   "source": [
    "Question 01 From task 01"
   ]
  },
  {
   "cell_type": "code",
   "execution_count": 13,
   "id": "6189f507",
   "metadata": {},
   "outputs": [
    {
     "name": "stdout",
     "output_type": "stream",
     "text": [
      "Writing to 'data_file.txt'\n",
      "\n",
      "Appending a line to 'data_file.txt'\n",
      "\n",
      "Reading entire file content:\n",
      "Line 1: Python file handling demo.\n",
      "Line 2: Let's explore read/write/delete.\n",
      "Line 3: Appending a third line.\n",
      "\n",
      "Reading the first line:\n",
      "Line 1: Python file handling demo.\n",
      "\n",
      "Reading all lines using readlines():\n",
      "['Line 1: Python file handling demo.\\n', \"Line 2: Let's explore read/write/delete.\\n\", 'Line 3: Appending a third line.\\n']\n",
      "\n",
      "Reading using 'with open':\n",
      "Line 1: Python file handling demo.\n",
      "Line 2: Let's explore read/write/delete.\n",
      "Line 3: Appending a third line.\n",
      "\n",
      "Checking if 'data_file.txt' exists:\n",
      "Yes, it exists.\n",
      "\n",
      "Deleting 'data_file.txt'\n",
      "'data_file.txt' has been deleted.\n"
     ]
    }
   ],
   "source": [
    "import os\n",
    "\n",
    "# Writing to a file named \"data_file.txt\"\n",
    "print(\"Writing to 'data_file.txt'\")\n",
    "f = open(\"data_file.txt\", \"w\")\n",
    "f.write(\"Line 1: Python file handling demo.\\n\")\n",
    "f.write(\"Line 2: Let's explore read/write/delete.\\n\")\n",
    "f.close()\n",
    "\n",
    "# Appending a new line\n",
    "print(\"\\nAppending a line to 'data_file.txt'\")\n",
    "f = open(\"data_file.txt\", \"a\")\n",
    "f.write(\"Line 3: Appending a third line.\\n\")\n",
    "f.close()\n",
    "\n",
    "# Reading entire content\n",
    "print(\"\\nReading entire file content:\")\n",
    "f = open(\"data_file.txt\", \"r\")\n",
    "print(f.read())\n",
    "f.close()\n",
    "\n",
    "# Reading the first line\n",
    "print(\"Reading the first line:\")\n",
    "f = open(\"data_file.txt\", \"r\")\n",
    "print(f.readline())\n",
    "f.close()\n",
    "\n",
    "# Reading all lines using readlines()\n",
    "print(\"Reading all lines using readlines():\")\n",
    "f = open(\"data_file.txt\", \"r\")\n",
    "lines = f.readlines()\n",
    "print(lines)\n",
    "f.close()\n",
    "\n",
    "# Using 'with' statement for reading\n",
    "print(\"\\nReading using 'with open':\")\n",
    "with open(\"data_file.txt\", \"r\") as f:\n",
    "    content = f.read()\n",
    "    print(content)\n",
    "\n",
    "# Checking file existence\n",
    "print(\"Checking if 'data_file.txt' exists:\")\n",
    "if os.path.exists(\"data_file.txt\"):\n",
    "    print(\"Yes, it exists.\")\n",
    "else:\n",
    "    print(\"File not found.\")\n",
    "\n",
    "# Deleting the file\n",
    "print(\"\\nDeleting 'data_file.txt'\")\n",
    "if os.path.exists(\"data_file.txt\"):\n",
    "    os.remove(\"data_file.txt\")\n",
    "    print(\"'data_file.txt' has been deleted.\")\n",
    "else:\n",
    "    print(\"No file found to delete.\")\n",
    "\n",
    "\n"
   ]
  },
  {
   "cell_type": "code",
   "execution_count": null,
   "id": "cd5f71bb",
   "metadata": {},
   "outputs": [],
   "source": [
    "\n",
    "\n",
    "\n"
   ]
  },
  {
   "cell_type": "code",
   "execution_count": null,
   "id": "4e490680",
   "metadata": {},
   "outputs": [],
   "source": [
    "\n"
   ]
  },
  {
   "cell_type": "code",
   "execution_count": null,
   "id": "c42d0bd8",
   "metadata": {},
   "outputs": [],
   "source": []
  },
  {
   "cell_type": "code",
   "execution_count": null,
   "id": "21b12d27",
   "metadata": {},
   "outputs": [],
   "source": []
  },
  {
   "cell_type": "code",
   "execution_count": null,
   "id": "005f63de",
   "metadata": {},
   "outputs": [],
   "source": []
  },
  {
   "cell_type": "code",
   "execution_count": null,
   "id": "961fda02",
   "metadata": {},
   "outputs": [],
   "source": []
  },
  {
   "cell_type": "code",
   "execution_count": null,
   "id": "e44a4263",
   "metadata": {},
   "outputs": [],
   "source": [
    "\n"
   ]
  },
  {
   "cell_type": "code",
   "execution_count": null,
   "id": "b21cb828",
   "metadata": {},
   "outputs": [],
   "source": [
    "\n"
   ]
  },
  {
   "cell_type": "code",
   "execution_count": null,
   "id": "087de88c",
   "metadata": {},
   "outputs": [],
   "source": [
    "\n"
   ]
  },
  {
   "cell_type": "code",
   "execution_count": null,
   "id": "733b4720",
   "metadata": {},
   "outputs": [],
   "source": []
  }
 ],
 "metadata": {
  "kernelspec": {
   "display_name": "Python 3",
   "language": "python",
   "name": "python3"
  },
  "language_info": {
   "codemirror_mode": {
    "name": "ipython",
    "version": 3
   },
   "file_extension": ".py",
   "mimetype": "text/x-python",
   "name": "python",
   "nbconvert_exporter": "python",
   "pygments_lexer": "ipython3",
   "version": "3.13.1"
  }
 },
 "nbformat": 4,
 "nbformat_minor": 5
}
