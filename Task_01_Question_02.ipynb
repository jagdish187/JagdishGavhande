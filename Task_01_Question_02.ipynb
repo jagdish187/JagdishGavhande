{
 "cells": [
  {
   "cell_type": "markdown",
   "id": "d90cadc1",
   "metadata": {},
   "source": [
    "Question 2 From Task 1"
   ]
  },
  {
   "cell_type": "code",
   "execution_count": 1,
   "id": "d39825ad",
   "metadata": {},
   "outputs": [
    {
     "name": "stdout",
     "output_type": "stream",
     "text": [
      "Assignment Operators:\n",
      "Initial a = 15\n",
      "After a += 10: 25\n",
      "After a *= 2: 50\n",
      "\n",
      "Arithmetic Operators:\n",
      "x + y = 16\n",
      "x - y = 8\n",
      "x * y = 48\n",
      "x / y = 3.0\n",
      "x % y = 0\n",
      "\n",
      "Comparison Operators:\n",
      "x == y: False\n",
      "x != y: True\n",
      "x > y: True\n",
      "\n",
      "Bitwise Operators:\n",
      "p & q = 2\n",
      "p | q = 7\n",
      "p ^ q = 5\n",
      "p << 1 = 12\n",
      "p >> 1 = 3\n",
      "\n",
      "Logical Operators:\n",
      "m and n: False\n",
      "m or n: True\n",
      "not m: False\n"
     ]
    }
   ],
   "source": [
    "# Assignment Operators\n",
    "print(\"Assignment Operators:\")\n",
    "a = 15\n",
    "print(\"Initial a =\", a)\n",
    "a += 10\n",
    "print(\"After a += 10:\", a)\n",
    "a *= 2\n",
    "print(\"After a *= 2:\", a)\n",
    "\n",
    "# Arithmetic Operators\n",
    "print(\"\\nArithmetic Operators:\")\n",
    "x, y = 12, 4\n",
    "print(\"x + y =\", x + y)\n",
    "print(\"x - y =\", x - y)\n",
    "print(\"x * y =\", x * y)\n",
    "print(\"x / y =\", x / y)\n",
    "print(\"x % y =\", x % y)\n",
    "\n",
    "# Comparison Operators\n",
    "print(\"\\nComparison Operators:\")\n",
    "print(\"x == y:\", x == y)\n",
    "print(\"x != y:\", x != y)\n",
    "print(\"x > y:\", x > y)\n",
    "\n",
    "# Bitwise Operators\n",
    "print(\"\\nBitwise Operators:\")\n",
    "p, q = 6, 3  # 0110 and 0011\n",
    "print(\"p & q =\", p & q)\n",
    "print(\"p | q =\", p | q)\n",
    "print(\"p ^ q =\", p ^ q)\n",
    "print(\"p << 1 =\", p << 1)\n",
    "print(\"p >> 1 =\", p >> 1)\n",
    "\n",
    "# Logical Operators\n",
    "print(\"\\nLogical Operators:\")\n",
    "m, n = True, False\n",
    "print(\"m and n:\", m and n)\n",
    "print(\"m or n:\", m or n)\n",
    "print(\"not m:\", not m)\n",
    "\n",
    "\n"
   ]
  }
 ],
 "metadata": {
  "kernelspec": {
   "display_name": "Python 3",
   "language": "python",
   "name": "python3"
  },
  "language_info": {
   "codemirror_mode": {
    "name": "ipython",
    "version": 3
   },
   "file_extension": ".py",
   "mimetype": "text/x-python",
   "name": "python",
   "nbconvert_exporter": "python",
   "pygments_lexer": "ipython3",
   "version": "3.13.1"
  }
 },
 "nbformat": 4,
 "nbformat_minor": 5
}
