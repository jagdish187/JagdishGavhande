{
 "cells": [
  {
   "cell_type": "markdown",
   "id": "970b6dcb",
   "metadata": {},
   "source": [
    "Question 02 From Task 02"
   ]
  },
  {
   "cell_type": "code",
   "execution_count": 2,
   "id": "85bf06aa",
   "metadata": {},
   "outputs": [
    {
     "name": "stdout",
     "output_type": "stream",
     "text": [
      "Original Tuple: ('Mumbai', 'Delhi', 'Pune', 'Delhi', 'Chennai')\n",
      "First city: Mumbai\n",
      "Last city: Chennai\n",
      "Slice from 1 to 3: ('Delhi', 'Pune', 'Delhi')\n",
      "Count of 'Delhi': 2\n",
      "Index of 'Pune': 2\n",
      "Length of tuple: 5\n",
      "Looping through tuple:\n",
      "Mumbai\n",
      "Delhi\n",
      "Pune\n",
      "Delhi\n",
      "Chennai\n",
      "Modified list: ['Mumbai', 'Pune', 'Delhi', 'Chennai', 'Kolkata']\n",
      "New Tuple: ('Mumbai', 'Pune', 'Delhi', 'Chennai', 'Kolkata')\n"
     ]
    }
   ],
   "source": [
    "# Creating a tuple of cities\n",
    "cities = (\"Mumbai\", \"Delhi\", \"Pune\", \"Delhi\", \"Chennai\")\n",
    "\n",
    "print(\"Original Tuple:\", cities)\n",
    "print(\"First city:\", cities[0])\n",
    "print(\"Last city:\", cities[-1])\n",
    "print(\"Slice from 1 to 3:\", cities[1:4])\n",
    "print(\"Count of 'Delhi':\", cities.count(\"Delhi\"))\n",
    "print(\"Index of 'Pune':\", cities.index(\"Pune\"))\n",
    "print(\"Length of tuple:\", len(cities))\n",
    "\n",
    "# Looping through tuple\n",
    "print(\"Looping through tuple:\")\n",
    "for city in cities:\n",
    "    print(city)\n",
    "\n",
    "# Convert to list, modify, convert back\n",
    "temp = list(cities)\n",
    "temp.append(\"Kolkata\")\n",
    "temp.remove(\"Delhi\")\n",
    "print(\"Modified list:\", temp)\n",
    "updated_cities = tuple(temp)\n",
    "print(\"New Tuple:\", updated_cities)\n",
    "\n",
    "\n"
   ]
  }
 ],
 "metadata": {
  "kernelspec": {
   "display_name": "Python 3",
   "language": "python",
   "name": "python3"
  },
  "language_info": {
   "codemirror_mode": {
    "name": "ipython",
    "version": 3
   },
   "file_extension": ".py",
   "mimetype": "text/x-python",
   "name": "python",
   "nbconvert_exporter": "python",
   "pygments_lexer": "ipython3",
   "version": "3.13.1"
  }
 },
 "nbformat": 4,
 "nbformat_minor": 5
}
