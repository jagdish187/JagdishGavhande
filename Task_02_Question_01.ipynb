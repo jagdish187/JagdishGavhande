{
 "cells": [
  {
   "cell_type": "markdown",
   "id": "12b6c5af",
   "metadata": {},
   "source": [
    "Question 01 From Task 02"
   ]
  },
  {
   "cell_type": "code",
   "execution_count": 1,
   "id": "ae48f84a",
   "metadata": {},
   "outputs": [
    {
     "name": "stdout",
     "output_type": "stream",
     "text": [
      "Original List: ['pen', 'pencil', 'eraser', 'sharpener']\n",
      "After append(): ['pen', 'pencil', 'eraser', 'sharpener', 'scale']\n",
      "After insert at index 1: ['pen', 'marker', 'pencil', 'eraser', 'sharpener', 'scale']\n",
      "After remove('pencil'): ['pen', 'marker', 'eraser', 'sharpener', 'scale']\n",
      "After pop(): ['pen', 'marker', 'eraser', 'sharpener']\n",
      "Popped item: scale\n",
      "Index of 'eraser': 2\n",
      "After sort(): ['eraser', 'marker', 'pen', 'sharpener']\n",
      "After reverse(): ['sharpener', 'pen', 'marker', 'eraser']\n",
      "Count of 'pen': 1\n",
      "After extend(): ['sharpener', 'pen', 'marker', 'eraser', 'compass', 'divider']\n",
      "Slice (1 to 4): ['pen', 'marker', 'eraser', 'compass']\n"
     ]
    }
   ],
   "source": [
    "# Creating a list of items\n",
    "items = [\"pen\", \"pencil\", \"eraser\", \"sharpener\"]\n",
    "print(\"Original List:\", items)\n",
    "\n",
    "# Append new element\n",
    "items.append(\"scale\")\n",
    "print(\"After append():\", items)\n",
    "\n",
    "# Insert element at a specific index\n",
    "items.insert(1, \"marker\")\n",
    "print(\"After insert at index 1:\", items)\n",
    "\n",
    "# Remove specific item\n",
    "items.remove(\"pencil\")\n",
    "print(\"After remove('pencil'):\", items)\n",
    "\n",
    "# Pop last item\n",
    "removed_item = items.pop()\n",
    "print(\"After pop():\", items)\n",
    "print(\"Popped item:\", removed_item)\n",
    "\n",
    "# Index of an item\n",
    "index_value = items.index(\"eraser\")\n",
    "print(\"Index of 'eraser':\", index_value)\n",
    "\n",
    "# Sort the list\n",
    "items.sort()\n",
    "print(\"After sort():\", items)\n",
    "\n",
    "# Reverse the list\n",
    "items.reverse()\n",
    "print(\"After reverse():\", items)\n",
    "\n",
    "# Count occurrences\n",
    "print(\"Count of 'pen':\", items.count(\"pen\"))\n",
    "\n",
    "# Extend list\n",
    "extras = [\"compass\", \"divider\"]\n",
    "items.extend(extras)\n",
    "print(\"After extend():\", items)\n",
    "\n",
    "# Slicing\n",
    "print(\"Slice (1 to 4):\", items[1:5])\n",
    "\n",
    "\n",
    "\n"
   ]
  }
 ],
 "metadata": {
  "kernelspec": {
   "display_name": "Python 3",
   "language": "python",
   "name": "python3"
  },
  "language_info": {
   "codemirror_mode": {
    "name": "ipython",
    "version": 3
   },
   "file_extension": ".py",
   "mimetype": "text/x-python",
   "name": "python",
   "nbconvert_exporter": "python",
   "pygments_lexer": "ipython3",
   "version": "3.13.1"
  }
 },
 "nbformat": 4,
 "nbformat_minor": 5
}
